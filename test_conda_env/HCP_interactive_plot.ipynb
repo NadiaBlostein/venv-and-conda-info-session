{
 "cells": [
  {
   "cell_type": "markdown",
   "metadata": {},
   "source": [
    "<h3> About this notebook </h3>"
   ]
  },
  {
   "cell_type": "markdown",
   "metadata": {},
   "source": [
    "The purpose of this Notebook is to use the conda environment that we created in order to make an interactive plot. It is inspired by Dr. Thomas Bury's CAMBAM-CRM workshop (reference at the end of the notebook).\n",
    "\n",
    "Quick parenthesis: Big Gabe hates Jupyter Notebooks; scroll down to the bottom of this one to find out why."
   ]
  },
  {
   "cell_type": "markdown",
   "metadata": {},
   "source": [
    "<h3> Useful Jupyter notebook shortcuts (from Dr. Bury's workshop) </h3>\n",
    "<img src='images/jupyter.png' width='40'>\n",
    "\n",
    "Outside of cells:\n",
    "- A : create new cell above\n",
    "- B : create new cell below\n",
    "- DD : delete cell\n",
    "- Y : make cell of <i>code</i> type\n",
    "- M : make cell of <i>text</i> type\n",
    "- enter : enter cell\n",
    "\n",
    "Within cell:\n",
    "- **Cmd + /** : comment/uncomment a line of code\n",
    "- **Shift + enter** : run cell\n",
    "- **esc** : escape from cell"
   ]
  },
  {
   "cell_type": "markdown",
   "metadata": {},
   "source": [
    "<h3> Import required packages </h3>"
   ]
  },
  {
   "cell_type": "code",
   "execution_count": 1,
   "metadata": {},
   "outputs": [],
   "source": [
    "import numpy as np # For numerical computation\n",
    "import pandas as pd # For handling dataframes\n",
    "import plotly.express as px # For rapid plotting\n",
    "import plotly.graph_objects as go # For finer plot details"
   ]
  },
  {
   "cell_type": "markdown",
   "metadata": {},
   "source": [
    "<h3> Import & clean the data </h3>"
   ]
  },
  {
   "cell_type": "code",
   "execution_count": 2,
   "metadata": {},
   "outputs": [],
   "source": [
    "hcp_df = pd.read_csv(\"HCP_data.csv\")"
   ]
  },
  {
   "cell_type": "code",
   "execution_count": 3,
   "metadata": {
    "scrolled": true
   },
   "outputs": [
    {
     "data": {
      "text/html": [
       "<div>\n",
       "<style scoped>\n",
       "    .dataframe tbody tr th:only-of-type {\n",
       "        vertical-align: middle;\n",
       "    }\n",
       "\n",
       "    .dataframe tbody tr th {\n",
       "        vertical-align: top;\n",
       "    }\n",
       "\n",
       "    .dataframe thead th {\n",
       "        text-align: right;\n",
       "    }\n",
       "</style>\n",
       "<table border=\"1\" class=\"dataframe\">\n",
       "  <thead>\n",
       "    <tr style=\"text-align: right;\">\n",
       "      <th></th>\n",
       "      <th>Subject</th>\n",
       "      <th>Gender</th>\n",
       "      <th>Age</th>\n",
       "      <th>TBV</th>\n",
       "      <th>Left Striatum Volume</th>\n",
       "      <th>Right Striatum Volume</th>\n",
       "      <th>Left Thalamus Volume</th>\n",
       "      <th>Right Thalamus Volume</th>\n",
       "      <th>Left Globus Pallidus Volume</th>\n",
       "      <th>Right Globus Pallidus Volume</th>\n",
       "      <th>Left Striatum Total SA</th>\n",
       "      <th>Right Striatum Total SA</th>\n",
       "      <th>Left Thalamus Total SA</th>\n",
       "      <th>Right Thalamus Total SA</th>\n",
       "      <th>Left Globus Pallidus Total SA</th>\n",
       "      <th>Right Globus Pallidus Total SA</th>\n",
       "      <th>Income</th>\n",
       "    </tr>\n",
       "  </thead>\n",
       "  <tbody>\n",
       "    <tr>\n",
       "      <th>0</th>\n",
       "      <td>0</td>\n",
       "      <td>Male</td>\n",
       "      <td>27</td>\n",
       "      <td>1694580</td>\n",
       "      <td>11848.20</td>\n",
       "      <td>12030.00</td>\n",
       "      <td>7827.26</td>\n",
       "      <td>7750.77</td>\n",
       "      <td>1746.90</td>\n",
       "      <td>1597.69</td>\n",
       "      <td>15156.32547</td>\n",
       "      <td>16506.40087</td>\n",
       "      <td>7902.211643</td>\n",
       "      <td>8394.220729</td>\n",
       "      <td>3603.322526</td>\n",
       "      <td>3751.440646</td>\n",
       "      <td>4.0</td>\n",
       "    </tr>\n",
       "    <tr>\n",
       "      <th>1</th>\n",
       "      <td>1</td>\n",
       "      <td>Female</td>\n",
       "      <td>27</td>\n",
       "      <td>1319380</td>\n",
       "      <td>9470.57</td>\n",
       "      <td>9749.09</td>\n",
       "      <td>5743.19</td>\n",
       "      <td>5773.38</td>\n",
       "      <td>1489.99</td>\n",
       "      <td>1291.05</td>\n",
       "      <td>12555.09774</td>\n",
       "      <td>13845.51983</td>\n",
       "      <td>6368.274739</td>\n",
       "      <td>6969.617635</td>\n",
       "      <td>3149.392096</td>\n",
       "      <td>3156.322277</td>\n",
       "      <td>7.0</td>\n",
       "    </tr>\n",
       "    <tr>\n",
       "      <th>2</th>\n",
       "      <td>2</td>\n",
       "      <td>Male</td>\n",
       "      <td>33</td>\n",
       "      <td>1563630</td>\n",
       "      <td>10274.90</td>\n",
       "      <td>10693.40</td>\n",
       "      <td>6865.83</td>\n",
       "      <td>6842.16</td>\n",
       "      <td>1617.93</td>\n",
       "      <td>1531.84</td>\n",
       "      <td>14165.48884</td>\n",
       "      <td>15590.63180</td>\n",
       "      <td>7235.193241</td>\n",
       "      <td>7763.609633</td>\n",
       "      <td>3476.901847</td>\n",
       "      <td>3725.802635</td>\n",
       "      <td>7.0</td>\n",
       "    </tr>\n",
       "    <tr>\n",
       "      <th>3</th>\n",
       "      <td>3</td>\n",
       "      <td>Male</td>\n",
       "      <td>27</td>\n",
       "      <td>1585390</td>\n",
       "      <td>12464.30</td>\n",
       "      <td>12575.80</td>\n",
       "      <td>7452.36</td>\n",
       "      <td>7598.48</td>\n",
       "      <td>1841.22</td>\n",
       "      <td>1639.88</td>\n",
       "      <td>15493.70123</td>\n",
       "      <td>16940.05756</td>\n",
       "      <td>7594.851693</td>\n",
       "      <td>8316.436428</td>\n",
       "      <td>3862.828117</td>\n",
       "      <td>3893.266274</td>\n",
       "      <td>6.0</td>\n",
       "    </tr>\n",
       "    <tr>\n",
       "      <th>4</th>\n",
       "      <td>4</td>\n",
       "      <td>Female</td>\n",
       "      <td>35</td>\n",
       "      <td>1261040</td>\n",
       "      <td>9774.47</td>\n",
       "      <td>9967.58</td>\n",
       "      <td>5856.38</td>\n",
       "      <td>5877.30</td>\n",
       "      <td>1679.33</td>\n",
       "      <td>1571.28</td>\n",
       "      <td>13309.15216</td>\n",
       "      <td>14458.50988</td>\n",
       "      <td>6514.710165</td>\n",
       "      <td>7003.367310</td>\n",
       "      <td>3586.431707</td>\n",
       "      <td>3773.869259</td>\n",
       "      <td>3.0</td>\n",
       "    </tr>\n",
       "  </tbody>\n",
       "</table>\n",
       "</div>"
      ],
      "text/plain": [
       "   Subject  Gender  Age      TBV  Left Striatum Volume  Right Striatum Volume  \\\n",
       "0        0    Male   27  1694580              11848.20               12030.00   \n",
       "1        1  Female   27  1319380               9470.57                9749.09   \n",
       "2        2    Male   33  1563630              10274.90               10693.40   \n",
       "3        3    Male   27  1585390              12464.30               12575.80   \n",
       "4        4  Female   35  1261040               9774.47                9967.58   \n",
       "\n",
       "   Left Thalamus Volume  Right Thalamus Volume  Left Globus Pallidus Volume  \\\n",
       "0               7827.26                7750.77                      1746.90   \n",
       "1               5743.19                5773.38                      1489.99   \n",
       "2               6865.83                6842.16                      1617.93   \n",
       "3               7452.36                7598.48                      1841.22   \n",
       "4               5856.38                5877.30                      1679.33   \n",
       "\n",
       "   Right Globus Pallidus Volume  Left Striatum Total SA  \\\n",
       "0                       1597.69             15156.32547   \n",
       "1                       1291.05             12555.09774   \n",
       "2                       1531.84             14165.48884   \n",
       "3                       1639.88             15493.70123   \n",
       "4                       1571.28             13309.15216   \n",
       "\n",
       "   Right Striatum Total SA  Left Thalamus Total SA  Right Thalamus Total SA  \\\n",
       "0              16506.40087             7902.211643              8394.220729   \n",
       "1              13845.51983             6368.274739              6969.617635   \n",
       "2              15590.63180             7235.193241              7763.609633   \n",
       "3              16940.05756             7594.851693              8316.436428   \n",
       "4              14458.50988             6514.710165              7003.367310   \n",
       "\n",
       "   Left Globus Pallidus Total SA  Right Globus Pallidus Total SA  Income  \n",
       "0                    3603.322526                     3751.440646     4.0  \n",
       "1                    3149.392096                     3156.322277     7.0  \n",
       "2                    3476.901847                     3725.802635     7.0  \n",
       "3                    3862.828117                     3893.266274     6.0  \n",
       "4                    3586.431707                     3773.869259     3.0  "
      ]
     },
     "execution_count": 3,
     "metadata": {},
     "output_type": "execute_result"
    }
   ],
   "source": [
    "hcp_df.head()"
   ]
  },
  {
   "cell_type": "code",
   "execution_count": 4,
   "metadata": {},
   "outputs": [],
   "source": [
    "hcp_df = hcp_df.fillna(hcp_df.mean())"
   ]
  },
  {
   "cell_type": "code",
   "execution_count": 5,
   "metadata": {},
   "outputs": [
    {
     "data": {
      "text/plain": [
       "Index(['Subject', 'Gender', 'Age', 'TBV', 'Left Striatum Volume',\n",
       "       'Right Striatum Volume', 'Left Thalamus Volume',\n",
       "       'Right Thalamus Volume', 'Left Globus Pallidus Volume',\n",
       "       'Right Globus Pallidus Volume', 'Left Striatum Total SA',\n",
       "       'Right Striatum Total SA', 'Left Thalamus Total SA',\n",
       "       'Right Thalamus Total SA', 'Left Globus Pallidus Total SA',\n",
       "       'Right Globus Pallidus Total SA', 'Income'],\n",
       "      dtype='object')"
      ]
     },
     "execution_count": 5,
     "metadata": {},
     "output_type": "execute_result"
    }
   ],
   "source": [
    "hcp_df.columns"
   ]
  },
  {
   "cell_type": "markdown",
   "metadata": {},
   "source": [
    "<h3> Create Plot </h3>"
   ]
  },
  {
   "cell_type": "markdown",
   "metadata": {},
   "source": [
    "NB: for the plot, you can chose any variable that is part of hcp_df.columns for: x, y, color, size, animation frame and hover name!"
   ]
  },
  {
   "cell_type": "code",
   "execution_count": 6,
   "metadata": {},
   "outputs": [],
   "source": [
    "x_axis=\"TBV\"\n",
    "y_axis=\"Left Striatum Volume\"\n",
    "x_min=min(hcp_df[x_axis])\n",
    "x_max=max(hcp_df[x_axis])\n",
    "y_min=min(hcp_df[y_axis])\n",
    "y_max=max(hcp_df[y_axis])"
   ]
  },
  {
   "cell_type": "code",
   "execution_count": 7,
   "metadata": {},
   "outputs": [],
   "source": [
    "fig = px.scatter(hcp_df, \n",
    "                 x=x_axis, \n",
    "                 y=y_axis, \n",
    "                 range_x=[x_min,x_max],\n",
    "                 range_y=[y_min,y_max],\n",
    "                 color='Gender',\n",
    "                 size=\"Income\",            \n",
    "                 animation_frame=\"Age\",\n",
    "                 hover_name=\"Subject\",\n",
    "                 title=\"Left striatal volume as a function of TBV\"\n",
    ")\n",
    "fig.write_html('left_str_by_TBV.html')"
   ]
  },
  {
   "cell_type": "markdown",
   "metadata": {},
   "source": [
    "<h3> References </h3>\n",
    "\n",
    "To learn more about interactive plots (and if you have issues installing the correct packages), you can go through Dr. Thomas Bury's (thomas.bury@mcgill.ca) CAMBAM-CRM workshop (I have his permission to share it with the lab):\n",
    "https://drive.google.com/drive/folders/1b5SwQo_AK6e3JBiYsAl8NJjREIuf35Un\n",
    "\n",
    "Jupyter Notebook to work through if you would like to learn more about Pandas:\n",
    "https://www.learndatasci.com/tutorials/python-pandas-tutorial-complete-introduction-for-beginners/\n",
    "\n",
    "Article on how to put your data into ’tidy’ form in Python is here\n",
    "https://www.jeannicholashould.com/tidy-data-in-python.html\n",
    "\n",
    "**Finally**, here is a video on why Joel Grus (and Gabriel Devenyi) do NOT like Jupyter Notebooks: https://www.youtube.com/watch?v=7jiPeIFXb6U"
   ]
  },
  {
   "cell_type": "code",
   "execution_count": null,
   "metadata": {},
   "outputs": [],
   "source": []
  }
 ],
 "metadata": {
  "kernelspec": {
   "display_name": "Python [conda env:my_conda_env]",
   "language": "python",
   "name": "conda-env-my_conda_env-py"
  },
  "language_info": {
   "codemirror_mode": {
    "name": "ipython",
    "version": 3
   },
   "file_extension": ".py",
   "mimetype": "text/x-python",
   "name": "python",
   "nbconvert_exporter": "python",
   "pygments_lexer": "ipython3",
   "version": "3.8.3"
  }
 },
 "nbformat": 4,
 "nbformat_minor": 4
}
